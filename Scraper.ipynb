{
 "cells": [
  {
   "cell_type": "code",
   "execution_count": 3,
   "id": "olive-looking",
   "metadata": {},
   "outputs": [],
   "source": [
    "import requests, os\n",
    "from bs4 import BeautifulSoup as bs\n",
    "from twilio.rest import Client\n",
    "url = 'https://mychartweb.ohsu.edu/mychart/SignupAndSchedule/EmbeddedSchedule?view=plain&public=1&id=84586,84587,84590&dept=237170004,237160001&vt=7504'"
   ]
  },
  {
   "cell_type": "code",
   "execution_count": 6,
   "id": "greater-orchestra",
   "metadata": {},
   "outputs": [],
   "source": [
    "def send_message():\n",
    "    account_sid = os.getenv('TWILIO_ACCT_ID')\n",
    "    auth_token = os.getenv('TWILIO_TOKEN')\n",
    "    client = Client(account_sid, auth_token)\n",
    "\n",
    "    message = client.messages.create(\n",
    "        to=\"+12148933072\", \n",
    "        from_=\"+18142564475\",\n",
    "        body=f\"Appointment is available!  See {url}\")\n",
    "\n",
    "    print(message.sid)"
   ]
  },
  {
   "cell_type": "code",
   "execution_count": 10,
   "id": "parental-smith",
   "metadata": {},
   "outputs": [],
   "source": [
    "if os.getenv('TEST_FLAG'): send_message()"
   ]
  },
  {
   "cell_type": "code",
   "execution_count": 8,
   "id": "transparent-customs",
   "metadata": {},
   "outputs": [],
   "source": [
    "resp = requests.get(url)\n",
    "bsr = bs(resp.content, 'html.parser')"
   ]
  },
  {
   "cell_type": "code",
   "execution_count": 9,
   "id": "requested-nerve",
   "metadata": {},
   "outputs": [
    {
     "name": "stdout",
     "output_type": "stream",
     "text": [
      "No appointments :(\n"
     ]
    }
   ],
   "source": [
    "v = bsr.select_one('div[data-rsrc-id=\"dayName_1\"]')\n",
    "if v.parent.attrs['class'] == ['hidden']: print('No appointments :(')\n",
    "else: send_message()"
   ]
  },
  {
   "cell_type": "code",
   "execution_count": null,
   "id": "awful-instrument",
   "metadata": {},
   "outputs": [],
   "source": []
  }
 ],
 "metadata": {
  "kernelspec": {
   "display_name": "Python 3",
   "language": "python",
   "name": "python3"
  },
  "language_info": {
   "codemirror_mode": {
    "name": "ipython",
    "version": 3
   },
   "file_extension": ".py",
   "mimetype": "text/x-python",
   "name": "python",
   "nbconvert_exporter": "python",
   "pygments_lexer": "ipython3",
   "version": "3.8.3"
  }
 },
 "nbformat": 4,
 "nbformat_minor": 5
}
